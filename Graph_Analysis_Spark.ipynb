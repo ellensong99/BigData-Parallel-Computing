{
  "cells": [
    {
      "cell_type": "markdown",
      "metadata": {
        "id": "iCp5Oj1e5nBn"
      },
      "source": [
        "## Parsing Graph Network"
      ]
    },
    {
      "cell_type": "markdown",
      "metadata": {
        "id": "vdL9NkD55nBo"
      },
      "source": [
        "---\n",
        "#### Overview\n",
        "For this assignment, you will be using Python and Spark to perform some graph analysis, using a graph of the Gnutella server network.   In this graph, each node represents a server, and each (directed) edge represents a connection between servers in Gnutella's peer-to-peer network.  The input file for this assignment, `p2p-Gnutella08-adj.txt`, represents the graph as an adjacency list.   Each server (node) is identified by a unique number, and each line in the file gives the adjacency list for a single server.\n",
        "For example, this line:\n",
        "> 91\t243\t1923\t2194\n",
        "\n",
        "gives the adjacency list for server `91`.   It indicates that there are edges from server `91` to servers `243`, `1923`, and `2194`.    According to the Stanford Network Analysis Project, which collected these data, [the graph includes 6301 servers and 20777 edges](http://snap.stanford.edu/data/p2p-Gnutella08.html).\n",
        "\n",
        "Run the following block to install Spark and download the input file."
      ]
    },
    {
      "cell_type": "code",
      "execution_count": 1,
      "metadata": {
        "id": "3PNw3CWW5nBp"
      },
      "outputs": [],
      "source": [
        "!apt-get update -qq > /dev/null\n",
        "!apt-get install openjdk-8-jdk-headless -qq > /dev/null\n",
        "!wget -q https://downloads.apache.org/spark/spark-2.4.8/spark-2.4.8-bin-hadoop2.7.tgz\n",
        "!tar xf spark-2.4.8-bin-hadoop2.7.tgz\n",
        "!pip install -q findspark\n",
        "!wget -q https://student.cs.uwaterloo.ca/~cs451/content/cs431/p2p-Gnutella08-adj.txt"
      ]
    },
    {
      "cell_type": "markdown",
      "metadata": {
        "id": "6rnFWG115nBq"
      },
      "source": [
        "and then create a `SparkContext`:"
      ]
    },
    {
      "cell_type": "code",
      "execution_count": 2,
      "metadata": {
        "id": "0kx1nY435nBr"
      },
      "outputs": [],
      "source": [
        "import os\n",
        "os.environ[\"JAVA_HOME\"] = \"/usr/lib/jvm/java-8-openjdk-amd64\"\n",
        "os.environ[\"SPARK_HOME\"] = \"/content/spark-2.4.8-bin-hadoop2.7\"\n",
        "\n",
        "import findspark\n",
        "findspark.init()\n",
        "\n",
        "from pyspark import SparkContext, SparkConf\n",
        "\n",
        "spark_conf = SparkConf()\\\n",
        "  .setAppName(\"YourTest\")\\\n",
        "  .setMaster(\"local[*]\")\n",
        "\n",
        "sc = SparkContext.getOrCreate(spark_conf)"
      ]
    },
    {
      "cell_type": "markdown",
      "metadata": {
        "id": "FsQFCPO85nBs"
      },
      "source": [
        "---\n",
        "### Important\n",
        "\n",
        "###### The questions that follow ask you to implement functions whose prototypes are given to you. Do **NOT** change the prototypes of the functions. Do **NOT** write code outside of functions. All necessary code should be included in the function body (except for import statements). You may declare functions inside of the function body. When marking, we will execute your code by calling the functions from an external program, which is why your code cannot rely on statements running outside functions. Please remove any call to the functions that you may have introduced for test purposes before submitting your notebook."
      ]
    },
    {
      "cell_type": "markdown",
      "metadata": {
        "id": "x2xfj_3e5nBt"
      },
      "source": [
        "---\n",
        "#### Question 1  (6/24 marks):\n",
        "\n",
        "To get warmed up, you should first write Spark code to confirm or determine some basic properties of the Gnutella graph.  Write code in the provided functions that will return answers to the following questions, as specified in each function's documentation:\n",
        "- How many nodes and edges are there in the graph?  (This should confirm the numbers given above.)\n",
        "- How many nodes of each outdegree are there? That is, how many nodes have no outgoing edges, how many have one outgoing edge, how many have two outgoing edges, and so on?\n",
        "- How many nodes of each indegree are there?\n",
        "\n",
        "You should use Spark to answer these questions.   Do *not* load the entire graph into your Python driver program."
      ]
    },
    {
      "cell_type": "code",
      "execution_count": 3,
      "metadata": {
        "colab": {
          "base_uri": "https://localhost:8080/"
        },
        "id": "TnoJMCQY5nBu",
        "outputId": "edb8213e-ae6b-47d6-b7f9-a48737f7fd5e"
      },
      "outputs": [
        {
          "name": "stdout",
          "output_type": "stream",
          "text": [
            "(6301, 20777) defaultdict(<class 'int'>, {10: 1531, 0: 3836, 9: 372, 1: 294, 3: 16, 7: 9, 2: 28, 5: 107, 8: 44, 6: 10, 4: 28, 13: 2, 14: 2, 18: 2, 25: 1, 12: 3, 29: 1, 19: 1, 47: 1, 34: 1, 24: 1, 22: 1, 28: 1, 11: 1, 17: 4, 46: 1, 48: 1, 31: 1, 41: 1}) defaultdict(<class 'int'>, {6: 227, 59: 1, 1: 2452, 74: 1, 7: 144, 4: 559, 5: 333, 3: 868, 70: 3, 2: 1287, 50: 1, 81: 4, 83: 1, 19: 2, 66: 2, 52: 1, 20: 4, 13: 19, 11: 29, 77: 2, 21: 2, 57: 1, 38: 1, 47: 2, 32: 2, 8: 76, 10: 37, 67: 3, 60: 3, 15: 8, 9: 70, 73: 2, 62: 2, 14: 13, 12: 23, 72: 2, 44: 1, 69: 2, 22: 1, 41: 1, 91: 1, 33: 1, 23: 1, 31: 2, 16: 1, 71: 3, 51: 1, 49: 1, 54: 1, 85: 1, 82: 1, 30: 1, 87: 1, 61: 1, 86: 1, 27: 1, 18: 2, 35: 1, 63: 1, 79: 1, 55: 1, 56: 2, 78: 1, 25: 1})\n"
          ]
        }
      ],
      "source": [
        "def num_nodes_edges():\n",
        "  def simple_tokenize(line):\n",
        "     return [int(i) for i in line.split()]\n",
        "  lines = sc.textFile(\"p2p-Gnutella08-adj.txt\")\n",
        "  num_nodes = lines.count()\n",
        "  num_edges = lines.map(lambda x: len(simple_tokenize(x))-1).reduce(lambda x,y:x+y)\n",
        "  return (num_nodes, num_edges)  \n",
        "    \n",
        "def out_counts():\n",
        "  def simple_tokenize(line):\n",
        "    loS = [int(i) for i in line.split()]\n",
        "    return (len(loS)-1, loS[0])\n",
        "  lines = sc.textFile(\"p2p-Gnutella08-adj.txt\")\n",
        "  res = lines.map(lambda x: simple_tokenize(x)).countByKey()\n",
        "  return res\n",
        "    # \"\"\"Returns a dictionary where the keys are the outdegrees, and the \n",
        "    # values are the number of nodes of the corresponding outdegree \"\"\"\n",
        "    # #### Your code for Question 1.2 should go here\n",
        "\n",
        "def in_counts():\n",
        "  def simple_tokenize(line):\n",
        "    loS = [int(i) for i in line.split()]\n",
        "    return loS[1:]\n",
        "  lines = sc.textFile(\"p2p-Gnutella08-adj.txt\")\n",
        "  res = lines.flatMap(lambda x: simple_tokenize(x)).map(lambda x: (x, 1)).reduceByKey(lambda x,y: x+y)\n",
        "  res1 = res.map(lambda x: (x[1], x[0])).countByKey()\n",
        "  return res1\n",
        "    # \"\"\"Returns a dictionary where the keys are the indegrees, and the \n",
        "    # values are the number of nodes of the corresponding indegree \"\"\"\n",
        "    # #### Your code for Question 1.3 should go here\n",
        "\n",
        "print(num_nodes_edges(), out_counts(), in_counts())"
      ]
    },
    {
      "cell_type": "markdown",
      "metadata": {
        "id": "jNp6bYDY5nBv"
      },
      "source": [
        "---\n",
        "Your main objective for this assignment is to perform *single source personalized page rank* over the Gnutella graph.  To get started, you should make sure that you have a clear understanding of ordinary (i.e., non-personalized) page rank.  Read the description of page rank in Section 5.3 of [the course textbook](http://mapreduce.cc/).   Personalized page rank is like ordinary page rank except:\n",
        "- One node in the graph is designated as the *source* node. Personalized page rank is performed with respect to that source node.\n",
        "- Personalized page rank is initialized by assigning all probability mass to the source node, and none to the other nodes. In contrast, ordinary page rank is initialized by giving all nodes the same probability mass.\n",
        "- Whenever personalized page rank makes a random jump, it jumps back to the source node. In contrast, ordinary page rank may jump to any node.\n",
        "- In personalized page rank, all probability mass lost dangling nodes is put back into the source nodes.  In ordinary page rank, lost mass is distributed evenly over all nodes.\n",
        "\n",
        "#### Question 2  (10/24 marks):\n",
        "\n",
        "Your task is to write a Spark program to perform personalized page rank over the Gnutella graph for a specified number of iterations, and of course a specific node. The function you will implement takes three input values:\n",
        "- source node id (a non-negative integer)\n",
        "- iteration count (a positive integer)\n",
        "- random jump factor value (a float between 0 and 1) - This is 1-B as introduced in the lecture.\n",
        "\n",
        "The function should perform personalized page rank, with respect to the specified source node, over the Gnutella graph, for the specified number of iterations, using Spark.\n",
        "The output of your function should be a list of the 10 nodes with the highest personalized page rank with respect to the given source. For each of the 10 nodes, return the node's id and page rank value as a tuple. The list returned by the function should therefore look something like this: `[(node_id_1, highest_pagerank_value), ..., (node_id_10, 10th_highest_pagerank_value)]`"
      ]
    },
    {
      "cell_type": "code",
      "execution_count": 10,
      "metadata": {
        "colab": {
          "base_uri": "https://localhost:8080/"
        },
        "id": "7oo6ny035nBv",
        "outputId": "b866302c-00af-4492-8e4f-81e84b8fc81b"
      },
      "outputs": [
        {
          "name": "stdout",
          "output_type": "stream",
          "text": [
            "[(2017, 0.33871974849298303), (100, 0.304745856887131), (2750, 0.020951316194351272), (96, 0.020943898199516482), (3808, 0.02093944720523819), (2794, 0.02093915354613689), (3810, 0.020938613345708006), (1914, 0.020938612231167525), (3807, 0.020938611128676003), (3713, 0.02093860591416992)]\n",
            "[(2794, 0.36541559072338664), (513, 0.03664950790441285), (2001, 0.03659412767617927), (2292, 0.03646168485025539), (2615, 0.036170134619692956), (1509, 0.03616197848386493), (3215, 0.03614608630353983), (1042, 0.03614599491394114), (4306, 0.03614477608839565), (3907, 0.036144757840226534)]\n"
          ]
        }
      ],
      "source": [
        "def personalized_page_rank(source_node_id, num_iterations, jump_factor):\n",
        "  def simple_tokenize(line):\n",
        "    loS = [int(i) for i in line.split()]\n",
        "    return (loS[0], loS[1:])\n",
        "  def pagerank(x):\n",
        "    if x[1][0] == 0:\n",
        "      return [(source_node_id, 0)]\n",
        "    elif x[1][1] == []:\n",
        "      return [(source_node_id, x[1][0])]\n",
        "    else: #(100, (1, [\"2017\"]))\n",
        "      scores = [(source_node_id, x[1][0] * jump_factor)]\n",
        "      for i in x[1][1]:\n",
        "        scores += [(i, x[1][0] * (1 - jump_factor) / len(x[1][1]))]\n",
        "      return scores\n",
        "  lines = sc.textFile(\"p2p-Gnutella08-adj.txt\")\n",
        "  num_nodes = lines.count()\n",
        "  res = lines.map(lambda x: simple_tokenize(x))\n",
        "  init_mass = lines.map(lambda x: (simple_tokenize(x)[0], simple_tokenize(x)[0] == source_node_id))\n",
        "  prev = init_mass\n",
        "  for i in range(0, num_iterations):\n",
        "    init_mass = init_mass.join(res).flatMap(lambda x: pagerank(x)).reduceByKey(lambda x, y: x+y)\n",
        "  init_mass = init_mass.map(lambda x: (x[1], x[0])).sortByKey(False).map(lambda x: (x[1], x[0]))\n",
        "  return init_mass.take(10)\n",
        "    # \"\"\"Returns a list of the 10 nodes with the highest page rank value along with their value, as tuples\n",
        "    # [(node_id_1, highest_pagerank_value), ..., (node_id_10, 10th_highest_pagerank_value)]\"\"\"\n",
        "    # # your solution to Question 2 here\n",
        "a = personalized_page_rank(100, 10, 0.1)\n",
        "b = personalized_page_rank(2794, 10, 0.05)\n",
        "print(sorted(a, key=lambda x: x[1], reverse=True))\n",
        "print(sorted(b, key=lambda x: x[1], reverse=True))\n"
      ]
    },
    {
      "cell_type": "markdown",
      "metadata": {
        "id": "RmZAajwV5nBw"
      },
      "source": [
        "---\n",
        "#### Question 3  (4/24 marks):\n",
        "\n",
        "For the previous question, you implemented personalized page rank that ran for a specified number of iterations.  However, it is also common to write iterative algorithms that run until some specified termination condition is reached.\n",
        "For example, for page rank, suppose the $p_i(x)$ represents the probability mass assigned to node $x$ after the $i$th iteration of the algorithm.  ($p_0(x)$ is the initial probability mass of node $x$.)   We define the change of $x$'s probability mass on the $i$th iteration as $\\lvert p_i(x)-p_{i-1}(x) \\rvert$.   Then, we can iterate personalized page rank until the maximum (over all nodes) change is less than a specified threshold, i.e, until all nodes' page ranks have converged.\n",
        "\n",
        "For this question, modify your personalized page rank implementation from Question 2 so that it iterates until the \n",
        "maximum node change is less than $\\frac{0.5}{N}$, where $N$ represents the number of nodes in the graph.\n",
        "This version of the function should take only two inputs: the source node id and the random jump factor."
      ]
    },
    {
      "cell_type": "code",
      "execution_count": 11,
      "metadata": {
        "colab": {
          "base_uri": "https://localhost:8080/"
        },
        "id": "whRf8BnZ5nBx",
        "outputId": "fac0d8e2-cb63-46ea-8e33-c7bb8494f00f"
      },
      "outputs": [
        {
          "name": "stdout",
          "output_type": "stream",
          "text": [
            "[(2750, 0.30220394870719763), (7, 0.03464320538320014), (174, 0.033601317145302345), (128, 0.029311063948404763), (856, 0.028554469248364675), (717, 0.028456769423626415), (368, 0.02844554779693093), (424, 0.02815377725062893), (125, 0.027985045265408185), (238, 0.027689556656325633)]\n",
            "[(0, 0.3405274579137615), (9, 0.032505079338152595), (5, 0.032476399402304686), (7, 0.032362487667159066), (4, 0.03221727201127592), (3, 0.03150003345862), (8, 0.031488430803692735), (10, 0.030872138035464906), (2, 0.030652673309598734), (1, 0.030651790105874478)]\n"
          ]
        }
      ],
      "source": [
        "def personalized_page_rank_stopping_criterion(source_node_id, jump_factor):\n",
        "  def simple_tokenize(line):\n",
        "    loS = [int(i) for i in line.split()]\n",
        "    return (loS[0], loS[1:])\n",
        "  def pagerank(x):\n",
        "    if x[1][0] == 0:\n",
        "      return [(source_node_id, 0)]\n",
        "    elif x[1][1] == []:\n",
        "      return [(source_node_id, x[1][0])]\n",
        "    else: #(100, (1, [\"2017\"]))\n",
        "      scores = [(source_node_id, x[1][0] * jump_factor)]\n",
        "      for i in x[1][1]:\n",
        "        scores += [(i, x[1][0] * (1 - jump_factor) / len(x[1][1]))]\n",
        "      return scores\n",
        "  lines = sc.textFile(\"p2p-Gnutella08-adj.txt\")\n",
        "  num_nodes = lines.count()\n",
        "  res = lines.map(lambda x: simple_tokenize(x)).cache()\n",
        "  init_mass = lines.map(lambda x: (simple_tokenize(x)[0], simple_tokenize(x)[0] == source_node_id))\n",
        "  prev = init_mass\n",
        "  max_diff = 1\n",
        "  while (max_diff >= 0.5 / num_nodes):\n",
        "    init_mass = init_mass.join(res).flatMap(lambda x: pagerank(x)).reduceByKey(lambda x, y: x+y)\n",
        "    max_diff = init_mass.join(prev).map(lambda x: abs(x[1][0] - x[1][1])).max()\n",
        "    prev = init_mass\n",
        "  init_mass = init_mass.map(lambda x: (x[1], x[0])).sortByKey(False).map(lambda x: (x[1], x[0]))\n",
        "  return init_mass.take(10)\n",
        "    # \"\"\"Returns a list of the 10 nodes with the highest page rank value along with their value, as tuples\n",
        "    # [(node_id_1, highest_pagerank_value), ..., (node_id_10, 10th_highest_pagerank_value)]\"\"\"\n",
        "    # # your solution to Question 3 here\n",
        "    \n",
        "a = personalized_page_rank_stopping_criterion(2750, 0.1)\n",
        "b = personalized_page_rank_stopping_criterion(0, 0.1)\n",
        "print(sorted(a, key=lambda x: x[1], reverse=True))\n",
        "print(sorted(b, key=lambda x: x[1], reverse=True))"
      ]
    },
    {
      "cell_type": "markdown",
      "metadata": {
        "id": "suYKj6_S5nBy"
      },
      "source": [
        "---\n",
        "#### Question 4  (4/24 marks):\n",
        "\n",
        "Spark provides the ability to *cache* RDDs.   This is useful when an RDD will be used more than once.   Instead of computing the same RDD multiple times, it can be computed once, cached, and then re-used from the cache.   Read about caching in the Spark textbook, or in the [persistence section of the Spark RDD programming guide](https://spark.apache.org/docs/latest/rdd-programming-guide.html#rdd-persistence).   Caching can be particularly effective for iterative Spark applications, like those you are writing for this assignment.\n",
        "\n",
        "For this question, go back to the code that you wrote to answer Question 3, and add caching.   (Caching will not affect the functionality of your code, i.e., what it computes.   It should only affect performance.)   Don't worry about different persistence levels.   Just use `cache()`, which caches RDDs at the default persistence level.\n",
        "\n",
        "In addition to adding `cache()` calls in your code, use the text cell below to briefly explain how you decided which RDDs to cache. \n",
        "\n",
        "If you were not able to finish Question 3, add caching annotations to your solution for Question 2 instead."
      ]
    },
    {
      "cell_type": "markdown",
      "metadata": {
        "id": "A_fRhytv5nBy"
      },
      "source": [
        "---\n",
        "#### Your answer to Question 4:\n",
        "\n",
        "The purpose of cache() calls is to persist an RDD so that it will be kept in memory and can be reused faster later. Giving that it saves time when I resue it multiple times, I am adding it to the first RDD, *res*, in Question 3, since I need to join it in each iteration in the loop. However, I am not adding cache to other RDDs like *init_mass* since it is updated in each iteration. There is no much point caching it.\n",
        "\n",
        "\n"
      ]
    },
    {
      "cell_type": "markdown",
      "metadata": {
        "id": "4AAWthLp5nBz"
      },
      "source": [
        "---\n",
        "Don't forget to save your workbook!   When you are finished and you are ready to submit your assignment, download your notebook file (.ipynb) from the hub to your machine, and then follow the submission instructions in the assignment."
      ]
    }
  ],
  "metadata": {
    "colab": {
      "collapsed_sections": [],
      "name": "A3.ipynb",
      "provenance": []
    },
    "kernelspec": {
      "display_name": "Python 3",
      "language": "python",
      "name": "python3"
    },
    "language_info": {
      "codemirror_mode": {
        "name": "ipython",
        "version": 3
      },
      "file_extension": ".py",
      "mimetype": "text/x-python",
      "name": "python",
      "nbconvert_exporter": "python",
      "pygments_lexer": "ipython3",
      "version": "3.6.8"
    }
  },
  "nbformat": 4,
  "nbformat_minor": 0
}
