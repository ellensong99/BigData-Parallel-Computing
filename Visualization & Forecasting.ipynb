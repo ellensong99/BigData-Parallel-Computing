{
  "nbformat": 4,
  "nbformat_minor": 0,
  "metadata": {
    "colab": {
      "name": "431project.ipynb",
      "provenance": [],
      "collapsed_sections": []
    },
    "kernelspec": {
      "name": "python3",
      "display_name": "Python 3"
    },
    "language_info": {
      "name": "python"
    }
  },
  "cells": [
    {
      "cell_type": "markdown",
      "source": [
        "\n",
        "Objective\n",
        "*   Visualization of Prices/Volumes\n",
        "*   Train LR model to forecast prices\n",
        "\n"
      ],
      "metadata": {
        "id": "MLuXy-w4YWoH"
      }
    },
    {
      "cell_type": "code",
      "execution_count": null,
      "metadata": {
        "id": "zBfptt0pqoX2"
      },
      "outputs": [],
      "source": [
        "!wget -q https://www.cryptodatadownload.com/cdd/Gemini_BTCUSD_2021_1min.csv\n",
        "!wget -q https://www.cryptodatadownload.com/cdd/Gemini_ETHUSD_2021_1min.csv\n",
        "!wget -q https://www.cryptodatadownload.com/cdd/Gemini_BTCUSD_2022_1min.csv\n",
        "!wget -q https://www.cryptodatadownload.com/cdd/Gemini_ETHUSD_2022_1min.csv\n",
        "!wget -q https://www.cryptodatadownload.com/cdd/Gemini_LTCUSD_2021_1min.csv\n",
        "!wget -q https://www.cryptodatadownload.com/cdd/Gemini_LTCUSD_2022_1min.csv"
      ]
    },
    {
      "cell_type": "code",
      "source": [
        "!apt-get update -qq > /dev/null\n",
        "!apt-get install openjdk-8-jdk-headless -qq > /dev/null\n",
        "!wget -q https://downloads.apache.org/spark/spark-2.4.8/spark-2.4.8-bin-hadoop2.7.tgz\n",
        "!tar xf spark-2.4.8-bin-hadoop2.7.tgz\n",
        "!pip install -q findspark\n",
        "!wget -q https://student.cs.uwaterloo.ca/~cs451/content/cs431/sql-data.tgz\n",
        "!tar -xzf sql-data.tgz"
      ],
      "metadata": {
        "id": "ojpazJxJwyyC"
      },
      "execution_count": null,
      "outputs": []
    },
    {
      "cell_type": "code",
      "source": [
        "import os\n",
        "os.environ[\"JAVA_HOME\"] = \"/usr/lib/jvm/java-8-openjdk-amd64\"\n",
        "os.environ[\"SPARK_HOME\"] = \"/content/spark-2.4.8-bin-hadoop2.7\"\n",
        "\n",
        "import findspark\n",
        "findspark.init()\n",
        "\n",
        "from pyspark.sql import SparkSession\n",
        "import random\n",
        "from pyspark import SparkContext, SparkConf\n",
        "\n",
        "spark_conf = SparkConf()\\\n",
        "  .setAppName(\"YourTest\")\\\n",
        "  .setMaster(\"local[*]\")\n",
        "\n",
        "sc = SparkContext.getOrCreate(spark_conf)\n",
        "spark = SparkSession.builder.appName(\"YourTest\").master(\"local[2]\").config('spark.ui.port', random.randrange(4000,5000)).getOrCreate()"
      ],
      "metadata": {
        "id": "rdHT8sEyw9Ay"
      },
      "execution_count": null,
      "outputs": []
    },
    {
      "cell_type": "code",
      "source": [
        "import datetime as dt\n",
        "import plotly.express as px\n",
        "import matplotlib.pyplot as plt\n",
        "import plotly.graph_objects as go\n",
        "import pandas_datareader.data as web\n",
        "from pyspark.sql.functions import *\n",
        "from plotly.subplots import make_subplots"
      ],
      "metadata": {
        "id": "uu6Vnfj2W8OX"
      },
      "execution_count": null,
      "outputs": []
    },
    {
      "cell_type": "code",
      "source": [
        "csv = [\"Gemini_BTCUSD_2021_1min.csv\", \"Gemini_ETHUSD_2021_1min.csv\", \"Gemini_LTCUSD_2021_1min.csv\", \n",
        "       \"Gemini_BTCUSD_2022_1min.csv\", \"Gemini_ETHUSD_2022_1min.csv\", \"Gemini_LTCUSD_2022_1min.csv\"]\n",
        "los = []\n",
        "for i in csv[:3]:\n",
        "  src = sc.textFile(i)\n",
        "  header = src.take(2)\n",
        "  src = src.filter(lambda r: r not in header)\n",
        "  los.append(src)\n",
        "crypto_raw = spark.read.csv(sc.union(los))\n",
        "bit2021 = crypto_raw.toDF('Key','timestamp','type','open', 'high', 'low', 'close', 'volume').cache()\n",
        "bit2021 = bit2021.orderBy(\"type\",\"timestamp\", ascending=True)\n",
        "bit2021.count()"
      ],
      "metadata": {
        "colab": {
          "base_uri": "https://localhost:8080/"
        },
        "id": "Vzm27AIKq3IV",
        "outputId": "c83deb11-dbbc-455d-c296-42939719fbe7"
      },
      "execution_count": null,
      "outputs": [
        {
          "output_type": "execute_result",
          "data": {
            "text/plain": [
              "1571866"
            ]
          },
          "metadata": {},
          "execution_count": 5
        }
      ]
    },
    {
      "cell_type": "code",
      "source": [
        "los = []\n",
        "for i in csv[3:]:\n",
        "  src = sc.textFile(i)\n",
        "  header = src.take(2)\n",
        "  src = src.filter(lambda r: r not in header)\n",
        "  # spark.read.csv(src).show()\n",
        "  los.append(src)\n",
        "crypto_raw = spark.read.csv(sc.union(los))\n",
        "bit2022 = crypto_raw.toDF('Key','timestamp','type','open', 'high', 'low', 'close', 'volume').cache()\n",
        "bit2022 = bit2022.orderBy(\"type\",\"timestamp\", ascending=True)\n",
        "bit2022.show()\n",
        "bitdata = bit2021.union(bit2022)\n",
        "bitdata.count()"
      ],
      "metadata": {
        "colab": {
          "base_uri": "https://localhost:8080/"
        },
        "id": "mZ5dsbh5ImYr",
        "outputId": "d773fb6b-6672-4b40-8a3f-a5f83890a7bb"
      },
      "execution_count": null,
      "outputs": [
        {
          "output_type": "stream",
          "name": "stdout",
          "text": [
            "+-------------+-------------------+------+--------+--------+--------+--------+-----------+\n",
            "|          Key|          timestamp|  type|    open|    high|     low|   close|     volume|\n",
            "+-------------+-------------------+------+--------+--------+--------+--------+-----------+\n",
            "|1640995200000|2022-01-01 00:00:00|BTCUSD| 46220.0|46239.39|46219.86|46224.93| 5.61398098|\n",
            "|1640995260000|2022-01-01 00:01:00|BTCUSD|46224.93|46309.63|46214.07|46309.63|  1.8024838|\n",
            "|1640995320000|2022-01-01 00:02:00|BTCUSD|46309.63|46386.21|46297.08|46378.34|  2.7963976|\n",
            "|1640995380000|2022-01-01 00:03:00|BTCUSD|46378.34|46386.21|46316.82|46347.92| 0.06613985|\n",
            "|1640995440000|2022-01-01 00:04:00|BTCUSD|46347.92|46366.69|46347.66|46347.67| 0.03885194|\n",
            "|1640995500000|2022-01-01 00:05:00|BTCUSD|46347.67| 46411.4| 46320.0| 46411.4|13.31465272|\n",
            "|1640995560000|2022-01-01 00:06:00|BTCUSD| 46411.4| 46490.0| 46411.4|46485.51| 3.49533223|\n",
            "|1640995620000|2022-01-01 00:07:00|BTCUSD|46485.51|46493.71|46426.75|46427.88| 1.25758582|\n",
            "|1640995680000|2022-01-01 00:08:00|BTCUSD|46427.88|46427.88|46381.69|46385.18| 0.15413228|\n",
            "|1640995740000|2022-01-01 00:09:00|BTCUSD|46385.18|46393.35|46347.98|46347.98| 0.08945221|\n",
            "|1640995800000|2022-01-01 00:10:00|BTCUSD|46347.98|46373.53|46345.78|46368.76| 1.64815423|\n",
            "|1640995860000|2022-01-01 00:11:00|BTCUSD|46368.76| 46374.2| 46287.5|46304.25| 0.46675799|\n",
            "|1640995920000|2022-01-01 00:12:00|BTCUSD|46304.25|46304.25|46266.68|46274.13| 0.52366134|\n",
            "|1640995980000|2022-01-01 00:13:00|BTCUSD|46274.13|46355.16|46274.13|46331.96| 1.32231983|\n",
            "|1640996040000|2022-01-01 00:14:00|BTCUSD|46331.96|46333.08|46305.59|46326.31| 1.01042215|\n",
            "|1640996100000|2022-01-01 00:15:00|BTCUSD|46326.31| 46327.2|46292.64|46316.96| 0.25773461|\n",
            "|1640996160000|2022-01-01 00:16:00|BTCUSD|46316.96|46316.96|46309.12|46311.48| 0.15762555|\n",
            "|1640996220000|2022-01-01 00:17:00|BTCUSD|46311.48|46311.48|46273.08|46273.08| 1.06052021|\n",
            "|1640996280000|2022-01-01 00:18:00|BTCUSD|46273.08|46273.08|46257.49|46260.39| 0.41616668|\n",
            "|1640996340000|2022-01-01 00:19:00|BTCUSD|46260.39|46273.54|46228.83|46273.54| 0.45400096|\n",
            "+-------------+-------------------+------+--------+--------+--------+--------+-----------+\n",
            "only showing top 20 rows\n",
            "\n"
          ]
        },
        {
          "output_type": "execute_result",
          "data": {
            "text/plain": [
              "1990856"
            ]
          },
          "metadata": {},
          "execution_count": 6
        }
      ]
    },
    {
      "cell_type": "code",
      "source": [
        "from pyspark.sql import Window\n",
        "from pyspark.sql import functions as func\n",
        "import math\n",
        "\n",
        "def calculate_ma(df, window_width = 2):\n",
        "    if window_width < 2:\n",
        "        window_width = 2\n",
        "    half_window = math.floor(window_width / 2)\n",
        "    window = Window.rowsBetween(-half_window, half_window)\n",
        "    return df.withColumn(\"MA\", func.mean(\"close\").over(window))"
      ],
      "metadata": {
        "id": "HPXcu4y5N6Ji"
      },
      "execution_count": null,
      "outputs": []
    },
    {
      "cell_type": "code",
      "source": [
        "def agg_n_unit(df, n):\n",
        "    df_index = df.withColumn(\"id\", func.monotonically_increasing_id()) \\\n",
        "                 .withColumn(\"new_id\", func.floor(func.col(\"id\")/n))\n",
        "    df_sum = df_index.groupBy(\"new_id\").agg(func.sum(\"Volume\")).orderBy(\"new_id\")\n",
        "    w2 = Window.partitionBy(\"new_id\").orderBy(\"id\")\n",
        "    df_date = df_index.withColumn(\"row\", func.row_number().over(w2)) \\\n",
        "                      .filter(func.col(\"row\") == 1).drop(\"row\") \\\n",
        "                      .select(\"timestamp\", \"new_id\").orderBy(\"timestamp\")\n",
        "    return df_date.join(df_sum, on=\"new_id\").orderBy(\"timestamp\").drop(\"new_id\")"
      ],
      "metadata": {
        "id": "YFEqtcbWXryh"
      },
      "execution_count": null,
      "outputs": []
    },
    {
      "cell_type": "markdown",
      "source": [
        "## Linear regression with the combination of L1 and L2 regularization:\n",
        "\n",
        "###$\\alpha (\\lambda ||w||_1) + (1-\\alpha) (\\frac{\\lambda}{2}||w||^2_2)$"
      ],
      "metadata": {
        "id": "VDyvnRfhiHNi"
      }
    },
    {
      "cell_type": "code",
      "source": [
        "from pyspark.ml.feature import VectorAssembler\n",
        "from pyspark.ml.feature import MinMaxScaler\n",
        "import matplotlib.pyplot as plt\n",
        "from pyspark.sql.types import StructType,StructField,FloatType\n",
        "from pyspark.ml.regression import LinearRegression\n",
        "\n",
        "class Model():\n",
        "    def __init__(self, df, split_rate = 0.7, seed = 341):\n",
        "        self.history = df\n",
        "        self.split_rate = split_rate\n",
        "        self.seed = seed\n",
        "\n",
        "        self.data = self.history.select(\"timestamp\", \"close\").orderBy(\"timestamp\")\n",
        "        self.data = self.data.withColumn(\"lag1\", func.lag(\"close\", 1, 0).over(Window.orderBy(\"timestamp\"))) \\\n",
        "                              .withColumn(\"lag2\", func.lag(\"close\", 2, 0).over(Window.orderBy(\"timestamp\"))) \\\n",
        "                              .withColumn(\"lag3\", func.lag(\"close\", 3, 0).over(Window.orderBy(\"timestamp\"))) \\\n",
        "                              .withColumn(\"lag4\", func.lag(\"close\", 4, 0).over(Window.orderBy(\"timestamp\"))) \\\n",
        "                              .withColumn(\"lag5\", func.lag(\"close\", 5, 0).over(Window.orderBy(\"timestamp\"))) \\\n",
        "                              .withColumn(\"lag6\", func.lag(\"close\", 6, 0).over(Window.orderBy(\"timestamp\"))) \\\n",
        "                              .withColumn(\"lag7\", func.lag(\"close\", 7, 0).over(Window.orderBy(\"timestamp\"))) \\\n",
        "                              .withColumn(\"lag8\", func.lag(\"close\", 8, 0).over(Window.orderBy(\"timestamp\"))) \\\n",
        "                              .withColumn(\"lag9\", func.lag(\"close\", 9, 0).over(Window.orderBy(\"timestamp\"))) \\\n",
        "                              .withColumn(\"lag10\", func.lag(\"close\", 10, 0).over(Window.orderBy(\"timestamp\"))) \\\n",
        "                              .withColumn(\"id\", func.monotonically_increasing_id())\n",
        "        self.data = self.data.filter(self.data.id > 9).drop(\"id\")\n",
        "        self.data_date = self.data.select(\"timestamp\")\n",
        "\n",
        "        vectorAssembler = VectorAssembler(inputCols=['lag1','lag2','lag3','lag4','lag5','lag6','lag7','lag8','lag9','lag10'], outputCol='features')\n",
        "        self.data = vectorAssembler.transform(self.data).select(['features', 'close'])\n",
        "\n",
        "    def evaluate(self):\n",
        "        self.train, self.test =  self.data.randomSplit([self.split_rate, 1-self.split_rate], self.seed)\n",
        "        lr = LinearRegression(featuresCol='features',labelCol='close', maxIter=10, regParam=0.3, elasticNetParam=0.8).fit(self.train)\n",
        "        pred = lr.transform(self.test.select(['features']))\n",
        "        plt.plot(pred.select(\"prediction\").limit(100).toPandas())\n",
        "        plt.plot(self.test.select(\"close\").limit(100).toPandas())\n",
        "        plt.show()\n",
        "        trainingSummary = lr.summary\n",
        "        print(\"RMSE: %f\" % trainingSummary.rootMeanSquaredError)\n",
        "        print(\"r2: %f\" % trainingSummary.r2)\n",
        "\n",
        "    def historical(self):\n",
        "        lr = LinearRegression(featuresCol='features',labelCol='close', maxIter=10, regParam=0.3, elasticNetParam=0.8).fit(self.data)\n",
        "        pred = lr.transform(self.data.select(['features'])).withColumn(\"id\", func.monotonically_increasing_id())\n",
        "        pred.join(self.data_date.withColumn(\"id\", func.monotonically_increasing_id()), on=\"id\")\n",
        "        return pred.select(\"timestamp\", \"prediction\")\n",
        "\n",
        "    def forecast(self, n_unit_ahead):\n",
        "        lr = LinearRegression(featuresCol='features',labelCol='close', maxIter=10, regParam=0.3, elasticNetParam=0.8).fit(self.data)\n",
        "        df_forecast = self.history.orderBy(self.history.timestamp.desc()).limit(10).orderBy(\"timestamp\").select(\"close\", \"timestamp\")\n",
        "        data_forecast = df_forecast.toPandas()[\"close\"].tolist()\n",
        "        ts = df_forecast.orderBy(df_forecast.timestamp.desc()).limit(1).select(\"timestamp\") \\\n",
        "                        .withColumn(\"id\", func.row_number().over(Window.orderBy(\"timestamp\")))\n",
        "        forecast_results = []\n",
        "        for i in range(n_unit_ahead):\n",
        "            ts = ts.withColumn(\"next_min\", func.col(\"timestamp\") + func.expr(\"INTERVAL 1 minutes\")) \\\n",
        "                   .drop(\"timestamp\").withColumnRenamed(\"next_min\",\"timestamp\")\n",
        "            df = spark.createDataFrame(\n",
        "                [data_forecast],\n",
        "                [\"lag1\",\"lag2\",\"lag3\",\"lag4\",\"lag5\",\"lag6\",\"lag7\",\"lag8\",\"lag9\",\"lag10\"]\n",
        "            )\n",
        "            vectorAssembler = VectorAssembler(inputCols=['lag1','lag2','lag3','lag4','lag5','lag6','lag7','lag8','lag9','lag10'], outputCol='features')\n",
        "            df = vectorAssembler.transform(df).select(['features'])\n",
        "            pred = lr.transform(df.select(['features'])).withColumn(\"id\", func.row_number().over(Window.orderBy(\"prediction\")))\n",
        "            pred = ts.join(pred, on=\"id\").drop(\"id\")\n",
        "            pred_date = pred.select(\"timestamp\").toPandas()[\"timestamp\"].tolist()\n",
        "            pred_val = pred.select(\"prediction\").toPandas()[\"prediction\"].tolist()\n",
        "            print(f\"forcast on {pred_date[0]}: {pred_val[0]}\")\n",
        "            forecast_results.append(pred)\n",
        "            data_forecast = (pred_val + data_forecast)[:-1]\n",
        "        df = forecast_results[0]\n",
        "        for i in range(1,n_unit_ahead):\n",
        "            df = df.union(forecast_results[i])\n",
        "        return df.select(\"timestamp\", \"prediction\")"
      ],
      "metadata": {
        "id": "SOKFhlogKPzK"
      },
      "execution_count": 11,
      "outputs": []
    },
    {
      "cell_type": "code",
      "source": [
        "df = bitdata.filter(\"type = \\\"BTCUSD\\\"\").filter(\"timestamp >= \\\"2022-01-01\\\"\").withColumn(\"close\", bitdata.close.cast('float'))\n",
        "df = df.withColumn(\"timestamp\",func.to_timestamp(\"timestamp\")).sort(\"timestamp\")\n",
        "df_model = df.select(\"timestamp\", \"close\")\n",
        "pred_btc = Model(df_model).forecast(100)"
      ],
      "metadata": {
        "colab": {
          "base_uri": "https://localhost:8080/"
        },
        "id": "H4t9CCw8LYqT",
        "outputId": "34a92046-bb95-4a79-9677-d855d6a85972"
      },
      "execution_count": 12,
      "outputs": [
        {
          "output_type": "stream",
          "name": "stdout",
          "text": [
            "forcast on 2022-04-08 04:07:00: 43637.119995532536\n",
            "forcast on 2022-04-08 04:08:00: 43636.04604687749\n",
            "forcast on 2022-04-08 04:09:00: 43634.618176586395\n",
            "forcast on 2022-04-08 04:10:00: 43634.366975701865\n",
            "forcast on 2022-04-08 04:11:00: 43634.07594439799\n",
            "forcast on 2022-04-08 04:12:00: 43633.629160134304\n",
            "forcast on 2022-04-08 04:13:00: 43634.056682418995\n",
            "forcast on 2022-04-08 04:14:00: 43635.45339471674\n",
            "forcast on 2022-04-08 04:15:00: 43635.826416384734\n",
            "forcast on 2022-04-08 04:16:00: 43635.597059584295\n",
            "forcast on 2022-04-08 04:17:00: 43635.31244353249\n",
            "forcast on 2022-04-08 04:18:00: 43635.28442981308\n",
            "forcast on 2022-04-08 04:19:00: 43635.288726280385\n",
            "forcast on 2022-04-08 04:20:00: 43635.341587757655\n",
            "forcast on 2022-04-08 04:21:00: 43635.40229577127\n",
            "forcast on 2022-04-08 04:22:00: 43635.472298954344\n",
            "forcast on 2022-04-08 04:23:00: 43635.56458097567\n",
            "forcast on 2022-04-08 04:24:00: 43635.65239736412\n",
            "forcast on 2022-04-08 04:25:00: 43635.69752108881\n",
            "forcast on 2022-04-08 04:26:00: 43635.72975503504\n",
            "forcast on 2022-04-08 04:27:00: 43635.768678141714\n",
            "forcast on 2022-04-08 04:28:00: 43635.81774184294\n",
            "forcast on 2022-04-08 04:29:00: 43635.869387811654\n",
            "forcast on 2022-04-08 04:30:00: 43635.92272259444\n",
            "forcast on 2022-04-08 04:31:00: 43635.97614830572\n",
            "forcast on 2022-04-08 04:32:00: 43636.029481298225\n",
            "forcast on 2022-04-08 04:33:00: 43636.08253057042\n",
            "forcast on 2022-04-08 04:34:00: 43636.134417982925\n",
            "forcast on 2022-04-08 04:35:00: 43636.18503578541\n",
            "forcast on 2022-04-08 04:36:00: 43636.23571718717\n",
            "forcast on 2022-04-08 04:37:00: 43636.28694260199\n",
            "forcast on 2022-04-08 04:38:00: 43636.33856938107\n",
            "forcast on 2022-04-08 04:39:00: 43636.3902954929\n",
            "forcast on 2022-04-08 04:40:00: 43636.442039265574\n",
            "forcast on 2022-04-08 04:41:00: 43636.493742482126\n",
            "forcast on 2022-04-08 04:42:00: 43636.545399777206\n",
            "forcast on 2022-04-08 04:43:00: 43636.59700958694\n",
            "forcast on 2022-04-08 04:44:00: 43636.64857150875\n",
            "forcast on 2022-04-08 04:45:00: 43636.7001172081\n",
            "forcast on 2022-04-08 04:46:00: 43636.7516899306\n",
            "forcast on 2022-04-08 04:47:00: 43636.803291921206\n",
            "forcast on 2022-04-08 04:48:00: 43636.85490838067\n",
            "forcast on 2022-04-08 04:49:00: 43636.90652689684\n",
            "forcast on 2022-04-08 04:50:00: 43636.95814393927\n",
            "forcast on 2022-04-08 04:51:00: 43637.00975850939\n",
            "forcast on 2022-04-08 04:52:00: 43637.06137157443\n",
            "forcast on 2022-04-08 04:53:00: 43637.112984307896\n",
            "forcast on 2022-04-08 04:54:00: 43637.16459802067\n",
            "forcast on 2022-04-08 04:55:00: 43637.21621432583\n",
            "forcast on 2022-04-08 04:56:00: 43637.26783403071\n",
            "forcast on 2022-04-08 04:57:00: 43637.319456507415\n",
            "forcast on 2022-04-08 04:58:00: 43637.37108093551\n",
            "forcast on 2022-04-08 04:59:00: 43637.42270688497\n",
            "forcast on 2022-04-08 05:00:00: 43637.47433430512\n",
            "forcast on 2022-04-08 05:01:00: 43637.5259632672\n",
            "forcast on 2022-04-08 05:02:00: 43637.57759388731\n",
            "forcast on 2022-04-08 05:03:00: 43637.629226260906\n",
            "forcast on 2022-04-08 05:04:00: 43637.680860456254\n",
            "forcast on 2022-04-08 05:05:00: 43637.73249650923\n",
            "forcast on 2022-04-08 05:06:00: 43637.78413440509\n",
            "forcast on 2022-04-08 05:07:00: 43637.83577409693\n",
            "forcast on 2022-04-08 05:08:00: 43637.88741555233\n",
            "forcast on 2022-04-08 05:09:00: 43637.93905876285\n",
            "forcast on 2022-04-08 05:10:00: 43637.99070373419\n",
            "forcast on 2022-04-08 05:11:00: 43638.04235047486\n",
            "forcast on 2022-04-08 05:12:00: 43638.09399899196\n",
            "forcast on 2022-04-08 05:13:00: 43638.145649289545\n",
            "forcast on 2022-04-08 05:14:00: 43638.19730136897\n",
            "forcast on 2022-04-08 05:15:00: 43638.24895522946\n",
            "forcast on 2022-04-08 05:16:00: 43638.30061086886\n",
            "forcast on 2022-04-08 05:17:00: 43638.35226828509\n",
            "forcast on 2022-04-08 05:18:00: 43638.40392747744\n",
            "forcast on 2022-04-08 05:19:00: 43638.45558844624\n",
            "forcast on 2022-04-08 05:20:00: 43638.507251192124\n",
            "forcast on 2022-04-08 05:21:00: 43638.558915715665\n",
            "forcast on 2022-04-08 05:22:00: 43638.6105820172\n",
            "forcast on 2022-04-08 05:23:00: 43638.66225009681\n",
            "forcast on 2022-04-08 05:24:00: 43638.71391995452\n",
            "forcast on 2022-04-08 05:25:00: 43638.76559159024\n",
            "forcast on 2022-04-08 05:26:00: 43638.81726500394\n",
            "forcast on 2022-04-08 05:27:00: 43638.86894019561\n",
            "forcast on 2022-04-08 05:28:00: 43638.92061716533\n",
            "forcast on 2022-04-08 05:29:00: 43638.97229591317\n",
            "forcast on 2022-04-08 05:30:00: 43639.02397643925\n",
            "forcast on 2022-04-08 05:31:00: 43639.075658743655\n",
            "forcast on 2022-04-08 05:32:00: 43639.127342826425\n",
            "forcast on 2022-04-08 05:33:00: 43639.179028687635\n",
            "forcast on 2022-04-08 05:34:00: 43639.230716327314\n",
            "forcast on 2022-04-08 05:35:00: 43639.28240574556\n",
            "forcast on 2022-04-08 05:36:00: 43639.3340969424\n",
            "forcast on 2022-04-08 05:37:00: 43639.38578991789\n",
            "forcast on 2022-04-08 05:38:00: 43639.43748467211\n",
            "forcast on 2022-04-08 05:39:00: 43639.48918120512\n",
            "forcast on 2022-04-08 05:40:00: 43639.54087951698\n",
            "forcast on 2022-04-08 05:41:00: 43639.59257960774\n",
            "forcast on 2022-04-08 05:42:00: 43639.64428147749\n",
            "forcast on 2022-04-08 05:43:00: 43639.69598512626\n",
            "forcast on 2022-04-08 05:44:00: 43639.74769055414\n",
            "forcast on 2022-04-08 05:45:00: 43639.79939776115\n",
            "forcast on 2022-04-08 05:46:00: 43639.851106747396\n"
          ]
        }
      ]
    },
    {
      "cell_type": "code",
      "source": [
        "Model(df_model).evaluate()"
      ],
      "metadata": {
        "colab": {
          "base_uri": "https://localhost:8080/",
          "height": 301
        },
        "id": "s42pNuYPdCDw",
        "outputId": "02b069b8-29fd-4346-94c0-db90ec559e3b"
      },
      "execution_count": 14,
      "outputs": [
        {
          "output_type": "display_data",
          "data": {
            "text/plain": [
              "<Figure size 432x288 with 1 Axes>"
            ],
            "image/png": "[encoded data removed]"
          },
          "metadata": {
            "needs_background": "light"
          }
        },
        {
          "output_type": "stream",
          "name": "stdout",
          "text": [
            "RMSE: 5.317911\n",
            "r2: 0.999777\n"
          ]
        }
      ]
    },
    {
      "cell_type": "code",
      "source": [
        "df = bitdata.filter(\"type = \\\"ETHUSD\\\"\").filter(\"timestamp >= \\\"2022-01-01\\\"\").withColumn(\"close\", bitdata.close.cast('float'))\n",
        "df = df.withColumn(\"timestamp\",func.to_timestamp(\"timestamp\")).sort(\"timestamp\")\n",
        "df_model = df.select(\"timestamp\", \"close\")\n",
        "pred_eth = Model(df_model).forecast(100)"
      ],
      "metadata": {
        "colab": {
          "base_uri": "https://localhost:8080/"
        },
        "id": "HcRFr27XOr2a",
        "outputId": "2f0fc934-2390-4892-9a56-a532829acd36"
      },
      "execution_count": 16,
      "outputs": [
        {
          "output_type": "stream",
          "name": "stdout",
          "text": [
            "forcast on 2022-04-08 04:07:00: 3269.61777751819\n",
            "forcast on 2022-04-08 04:08:00: 3269.5159100495457\n",
            "forcast on 2022-04-08 04:09:00: 3269.258158294812\n",
            "forcast on 2022-04-08 04:10:00: 3269.0509743330695\n",
            "forcast on 2022-04-08 04:11:00: 3268.8320672057794\n",
            "forcast on 2022-04-08 04:12:00: 3268.7846388404714\n",
            "forcast on 2022-04-08 04:13:00: 3268.7256037616125\n",
            "forcast on 2022-04-08 04:14:00: 3268.692259334201\n",
            "forcast on 2022-04-08 04:15:00: 3268.6518700738\n",
            "forcast on 2022-04-08 04:16:00: 3268.543743955288\n",
            "forcast on 2022-04-08 04:17:00: 3268.5228399365765\n",
            "forcast on 2022-04-08 04:18:00: 3268.4399859430832\n",
            "forcast on 2022-04-08 04:19:00: 3268.3563019575013\n",
            "forcast on 2022-04-08 04:20:00: 3268.2783768702343\n",
            "forcast on 2022-04-08 04:21:00: 3268.2040876111064\n",
            "forcast on 2022-04-08 04:22:00: 3268.1357172969488\n",
            "forcast on 2022-04-08 04:23:00: 3268.0668107381034\n",
            "forcast on 2022-04-08 04:24:00: 3267.997779572884\n",
            "forcast on 2022-04-08 04:25:00: 3267.927542475435\n",
            "forcast on 2022-04-08 04:26:00: 3267.856114874423\n",
            "forcast on 2022-04-08 04:27:00: 3267.7862535980557\n",
            "forcast on 2022-04-08 04:28:00: 3267.714474424234\n",
            "forcast on 2022-04-08 04:29:00: 3267.643032643786\n",
            "forcast on 2022-04-08 04:30:00: 3267.5720206701267\n",
            "forcast on 2022-04-08 04:31:00: 3267.501260150076\n",
            "forcast on 2022-04-08 04:32:00: 3267.430673849212\n",
            "forcast on 2022-04-08 04:33:00: 3267.360031700057\n",
            "forcast on 2022-04-08 04:34:00: 3267.2893448503037\n",
            "forcast on 2022-04-08 04:35:00: 3267.2186085003686\n",
            "forcast on 2022-04-08 04:36:00: 3267.1478612303695\n",
            "forcast on 2022-04-08 04:37:00: 3267.077150730933\n",
            "forcast on 2022-04-08 04:38:00: 3267.0064122280764\n",
            "forcast on 2022-04-08 04:39:00: 3266.9357192317657\n",
            "forcast on 2022-04-08 04:40:00: 3266.8650637502\n",
            "forcast on 2022-04-08 04:41:00: 3266.7944325203416\n",
            "forcast on 2022-04-08 04:42:00: 3266.7238179893307\n",
            "forcast on 2022-04-08 04:43:00: 3266.6532132497027\n",
            "forcast on 2022-04-08 04:44:00: 3266.5826201981986\n",
            "forcast on 2022-04-08 04:45:00: 3266.5120405710018\n",
            "forcast on 2022-04-08 04:46:00: 3266.441476600405\n",
            "forcast on 2022-04-08 04:47:00: 3266.3709293402308\n",
            "forcast on 2022-04-08 04:48:00: 3266.300397943671\n",
            "forcast on 2022-04-08 04:49:00: 3266.2298842572372\n",
            "forcast on 2022-04-08 04:50:00: 3266.159387368985\n",
            "forcast on 2022-04-08 04:51:00: 3266.0889065353895\n",
            "forcast on 2022-04-08 04:52:00: 3266.0184414318646\n",
            "forcast on 2022-04-08 04:53:00: 3265.947991959233\n",
            "forcast on 2022-04-08 04:54:00: 3265.8775583043603\n",
            "forcast on 2022-04-08 04:55:00: 3265.8071406078875\n",
            "forcast on 2022-04-08 04:56:00: 3265.7367389638634\n",
            "forcast on 2022-04-08 04:57:00: 3265.666353391556\n",
            "forcast on 2022-04-08 04:58:00: 3265.5959838697463\n",
            "forcast on 2022-04-08 04:59:00: 3265.5256304131935\n",
            "forcast on 2022-04-08 05:00:00: 3265.455292961451\n",
            "forcast on 2022-04-08 05:01:00: 3265.3849714812145\n",
            "forcast on 2022-04-08 05:02:00: 3265.314665964136\n",
            "forcast on 2022-04-08 05:03:00: 3265.2443764137165\n",
            "forcast on 2022-04-08 05:04:00: 3265.1741028392858\n",
            "forcast on 2022-04-08 05:05:00: 3265.103845244563\n",
            "forcast on 2022-04-08 05:06:00: 3265.033603628631\n",
            "forcast on 2022-04-08 05:07:00: 3264.963377987058\n",
            "forcast on 2022-04-08 05:08:00: 3264.8931683143433\n",
            "forcast on 2022-04-08 05:09:00: 3264.822974605467\n",
            "forcast on 2022-04-08 05:10:00: 3264.7527968543095\n",
            "forcast on 2022-04-08 05:11:00: 3264.682635056635\n",
            "forcast on 2022-04-08 05:12:00: 3264.6124892093135\n",
            "forcast on 2022-04-08 05:13:00: 3264.5423593094974\n",
            "forcast on 2022-04-08 05:14:00: 3264.4722453542054\n",
            "forcast on 2022-04-08 05:15:00: 3264.402147340033\n",
            "forcast on 2022-04-08 05:16:00: 3264.3320652633192\n",
            "forcast on 2022-04-08 05:17:00: 3264.2619991202814\n",
            "forcast on 2022-04-08 05:18:00: 3264.191948907148\n",
            "forcast on 2022-04-08 05:19:00: 3264.1219146201934\n",
            "forcast on 2022-04-08 05:20:00: 3264.051896255733\n",
            "forcast on 2022-04-08 05:21:00: 3263.981893810172\n",
            "forcast on 2022-04-08 05:22:00: 3263.9119072799444\n",
            "forcast on 2022-04-08 05:23:00: 3263.8419366614776\n",
            "forcast on 2022-04-08 05:24:00: 3263.771981951173\n",
            "forcast on 2022-04-08 05:25:00: 3263.702043145414\n",
            "forcast on 2022-04-08 05:26:00: 3263.632120240571\n",
            "forcast on 2022-04-08 05:27:00: 3263.5622132330186\n",
            "forcast on 2022-04-08 05:28:00: 3263.4923221191343\n",
            "forcast on 2022-04-08 05:29:00: 3263.4224468953025\n",
            "forcast on 2022-04-08 05:30:00: 3263.352587557909\n",
            "forcast on 2022-04-08 05:31:00: 3263.2827441033473\n",
            "forcast on 2022-04-08 05:32:00: 3263.2129165280094\n",
            "forcast on 2022-04-08 05:33:00: 3263.143104828287\n",
            "forcast on 2022-04-08 05:34:00: 3263.073309000569\n",
            "forcast on 2022-04-08 05:35:00: 3263.003529041249\n",
            "forcast on 2022-04-08 05:36:00: 3262.9337649467157\n",
            "forcast on 2022-04-08 05:37:00: 3262.864016713362\n",
            "forcast on 2022-04-08 05:38:00: 3262.794284337584\n",
            "forcast on 2022-04-08 05:39:00: 3262.724567815772\n",
            "forcast on 2022-04-08 05:40:00: 3262.654867144326\n",
            "forcast on 2022-04-08 05:41:00: 3262.585182319641\n",
            "forcast on 2022-04-08 05:42:00: 3262.515513338113\n",
            "forcast on 2022-04-08 05:43:00: 3262.4458601961423\n",
            "forcast on 2022-04-08 05:44:00: 3262.376222890127\n",
            "forcast on 2022-04-08 05:45:00: 3262.3066014164656\n",
            "forcast on 2022-04-08 05:46:00: 3262.236995771559\n"
          ]
        }
      ]
    },
    {
      "cell_type": "code",
      "source": [
        "Model(df_model).evaluate()"
      ],
      "metadata": {
        "colab": {
          "base_uri": "https://localhost:8080/",
          "height": 301
        },
        "id": "M1oTUmfFdTTx",
        "outputId": "daa2a963-6d4a-4536-ed9f-b7f7f7d320ea"
      },
      "execution_count": 17,
      "outputs": [
        {
          "output_type": "display_data",
          "data": {
            "text/plain": [
              "<Figure size 432x288 with 1 Axes>"
            ],
            "image/png": "[encoded data removed]"
          },
          "metadata": {
            "needs_background": "light"
          }
        },
        {
          "output_type": "stream",
          "name": "stdout",
          "text": [
            "RMSE: 5.317911\n",
            "r2: 0.999777\n"
          ]
        }
      ]
    },
    {
      "cell_type": "code",
      "source": [
        "df = bitdata.filter(\"type = \\\"LTCUSD\\\"\").filter(\"timestamp >= \\\"2022-01-01\\\"\").withColumn(\"close\", bitdata.close.cast('float'))\n",
        "df = df.withColumn(\"timestamp\",func.to_timestamp(\"timestamp\")).sort(\"timestamp\")\n",
        "df_model = df.select(\"timestamp\", \"close\")\n",
        "pred_ltc = Model(df_model).forecast(100)"
      ],
      "metadata": {
        "colab": {
          "base_uri": "https://localhost:8080/"
        },
        "id": "yODYvQXOO5U0",
        "outputId": "386aaacd-0772-4379-cc8f-140e9201a010"
      },
      "execution_count": 18,
      "outputs": [
        {
          "output_type": "stream",
          "name": "stdout",
          "text": [
            "forcast on 2022-04-08 04:08:00: 114.60713177765244\n",
            "forcast on 2022-04-08 04:09:00: 114.62286085544656\n",
            "forcast on 2022-04-08 04:10:00: 114.63858144434982\n",
            "forcast on 2022-04-08 04:11:00: 114.65432927012029\n",
            "forcast on 2022-04-08 04:12:00: 114.67016482805965\n",
            "forcast on 2022-04-08 04:13:00: 114.68611289047735\n",
            "forcast on 2022-04-08 04:14:00: 114.70987581220928\n",
            "forcast on 2022-04-08 04:15:00: 114.73527870955887\n",
            "forcast on 2022-04-08 04:16:00: 114.76456831710118\n",
            "forcast on 2022-04-08 04:17:00: 114.78634441769827\n",
            "forcast on 2022-04-08 04:18:00: 114.80940217501853\n",
            "forcast on 2022-04-08 04:19:00: 114.83035037431755\n",
            "forcast on 2022-04-08 04:20:00: 114.85144458350878\n",
            "forcast on 2022-04-08 04:21:00: 114.87272713766329\n",
            "forcast on 2022-04-08 04:22:00: 114.89424503180722\n",
            "forcast on 2022-04-08 04:23:00: 114.91604786468477\n",
            "forcast on 2022-04-08 04:24:00: 114.93819316591176\n",
            "forcast on 2022-04-08 04:25:00: 114.96025703011055\n",
            "forcast on 2022-04-08 04:26:00: 114.98212965018946\n",
            "forcast on 2022-04-08 04:27:00: 115.00353625002151\n",
            "forcast on 2022-04-08 04:28:00: 115.02487868828888\n",
            "forcast on 2022-04-08 04:29:00: 115.04607386455748\n",
            "forcast on 2022-04-08 04:30:00: 115.0672393195633\n",
            "forcast on 2022-04-08 04:31:00: 115.0883707906625\n",
            "forcast on 2022-04-08 04:32:00: 115.1094603004884\n",
            "forcast on 2022-04-08 04:33:00: 115.13049519060054\n",
            "forcast on 2022-04-08 04:34:00: 115.15145719711967\n",
            "forcast on 2022-04-08 04:35:00: 115.17232087268629\n",
            "forcast on 2022-04-08 04:36:00: 115.19308299533704\n",
            "forcast on 2022-04-08 04:37:00: 115.21374671620471\n",
            "forcast on 2022-04-08 04:38:00: 115.23433334544642\n",
            "forcast on 2022-04-08 04:39:00: 115.25484254745508\n",
            "forcast on 2022-04-08 04:40:00: 115.27527917437443\n",
            "forcast on 2022-04-08 04:41:00: 115.29564144175687\n",
            "forcast on 2022-04-08 04:42:00: 115.31592744711266\n",
            "forcast on 2022-04-08 04:43:00: 115.3361353928077\n",
            "forcast on 2022-04-08 04:44:00: 115.35626391219762\n",
            "forcast on 2022-04-08 04:45:00: 115.37631250973094\n",
            "forcast on 2022-04-08 04:46:00: 115.39628218587873\n",
            "forcast on 2022-04-08 04:47:00: 115.41617430097814\n",
            "forcast on 2022-04-08 04:48:00: 115.43599023638312\n",
            "forcast on 2022-04-08 04:49:00: 115.45573023595725\n",
            "forcast on 2022-04-08 04:50:00: 115.47539457170079\n",
            "forcast on 2022-04-08 04:51:00: 115.49498321862556\n",
            "forcast on 2022-04-08 04:52:00: 115.51449622291184\n",
            "forcast on 2022-04-08 04:53:00: 115.53393372379675\n",
            "forcast on 2022-04-08 04:54:00: 115.55329596500842\n",
            "forcast on 2022-04-08 04:55:00: 115.57258328714697\n",
            "forcast on 2022-04-08 04:56:00: 115.59179609048674\n",
            "forcast on 2022-04-08 04:57:00: 115.61093475074539\n",
            "forcast on 2022-04-08 04:58:00: 115.62999959144868\n",
            "forcast on 2022-04-08 04:59:00: 115.64899087268363\n",
            "forcast on 2022-04-08 05:00:00: 115.66790885186356\n",
            "forcast on 2022-04-08 05:01:00: 115.68675378165358\n",
            "forcast on 2022-04-08 05:02:00: 115.70552592823744\n",
            "forcast on 2022-04-08 05:03:00: 115.72422556951656\n",
            "forcast on 2022-04-08 05:04:00: 115.74285299153141\n",
            "forcast on 2022-04-08 05:05:00: 115.76140848345212\n",
            "forcast on 2022-04-08 05:06:00: 115.77989233210593\n",
            "forcast on 2022-04-08 05:07:00: 115.79830481784288\n",
            "forcast on 2022-04-08 05:08:00: 115.81664621500332\n",
            "forcast on 2022-04-08 05:09:00: 115.83491679424543\n",
            "forcast on 2022-04-08 05:10:00: 115.85311682604102\n",
            "forcast on 2022-04-08 05:11:00: 115.8712465809537\n",
            "forcast on 2022-04-08 05:12:00: 115.88930633009772\n",
            "forcast on 2022-04-08 05:13:00: 115.90729634451365\n",
            "forcast on 2022-04-08 05:14:00: 115.9252168945374\n",
            "forcast on 2022-04-08 05:15:00: 115.94306824927729\n",
            "forcast on 2022-04-08 05:16:00: 115.96085067631171\n",
            "forcast on 2022-04-08 05:17:00: 115.9785644416798\n",
            "forcast on 2022-04-08 05:18:00: 115.99620981013406\n",
            "forcast on 2022-04-08 05:19:00: 116.01378704541145\n",
            "forcast on 2022-04-08 05:20:00: 116.03129641040695\n",
            "forcast on 2022-04-08 05:21:00: 116.04873816715593\n",
            "forcast on 2022-04-08 05:22:00: 116.06611257679438\n",
            "forcast on 2022-04-08 05:23:00: 116.08341989948171\n",
            "forcast on 2022-04-08 05:24:00: 116.10066039434814\n",
            "forcast on 2022-04-08 05:25:00: 116.11783431947194\n",
            "forcast on 2022-04-08 05:26:00: 116.13494193188545\n",
            "forcast on 2022-04-08 05:27:00: 116.1519834876011\n",
            "forcast on 2022-04-08 05:28:00: 116.16895924164243\n",
            "forcast on 2022-04-08 05:29:00: 116.18586944806462\n",
            "forcast on 2022-04-08 05:30:00: 116.20271435996088\n",
            "forcast on 2022-04-08 05:31:00: 116.21949422945848\n",
            "forcast on 2022-04-08 05:32:00: 116.23620930771482\n",
            "forcast on 2022-04-08 05:33:00: 116.25285984491443\n",
            "forcast on 2022-04-08 05:34:00: 116.26944609027035\n",
            "forcast on 2022-04-08 05:35:00: 116.28596829202823\n",
            "forcast on 2022-04-08 05:36:00: 116.30242669747238\n",
            "forcast on 2022-04-08 05:37:00: 116.31882155293236\n",
            "forcast on 2022-04-08 05:38:00: 116.33515310378802\n",
            "forcast on 2022-04-08 05:39:00: 116.35142159447383\n",
            "forcast on 2022-04-08 05:40:00: 116.36762726848174\n",
            "forcast on 2022-04-08 05:41:00: 116.38377036836386\n",
            "forcast on 2022-04-08 05:42:00: 116.39985113573539\n",
            "forcast on 2022-04-08 05:43:00: 116.41586981127804\n",
            "forcast on 2022-04-08 05:44:00: 116.43182663474362\n",
            "forcast on 2022-04-08 05:45:00: 116.44772184495797\n",
            "forcast on 2022-04-08 05:46:00: 116.46355567982468\n",
            "forcast on 2022-04-08 05:47:00: 116.47932837632894\n"
          ]
        }
      ]
    },
    {
      "cell_type": "code",
      "source": [
        "Model(df_model).evaluate()"
      ],
      "metadata": {
        "colab": {
          "base_uri": "https://localhost:8080/",
          "height": 301
        },
        "id": "Rk0p5ButdV8F",
        "outputId": "7370dc4a-db91-45a9-c8df-cfa442164cda"
      },
      "execution_count": 19,
      "outputs": [
        {
          "output_type": "display_data",
          "data": {
            "text/plain": [
              "<Figure size 432x288 with 1 Axes>"
            ],
            "image/png": "[encoded data removed]"
          },
          "metadata": {
            "needs_background": "light"
          }
        },
        {
          "output_type": "stream",
          "name": "stdout",
          "text": [
            "RMSE: 0.362862\n",
            "r2: 0.999334\n"
          ]
        }
      ]
    },
    {
      "cell_type": "code",
      "source": [
        "def pretrain(type):\n",
        "  if type == \"BTCUSD\":\n",
        "    return pred_btc\n",
        "  elif type == \"ETHUSD\":\n",
        "    return pred_eth\n",
        "  if type == \"LTCUSD\":\n",
        "    return pred_ltc"
      ],
      "metadata": {
        "id": "2_MQ3UAhMiZd"
      },
      "execution_count": 20,
      "outputs": []
    },
    {
      "cell_type": "code",
      "source": [
        "from IPython.display import display, clear_output, Markdown\n",
        "from ipywidgets import IntSlider\n",
        "from itertools import chain\n",
        "import ipywidgets as widgets\n",
        "\n",
        "users = widgets.Dropdown(\n",
        "    options=bit2021.select(\"type\").distinct().toPandas()[\"type\"].tolist(),\n",
        "    value=\"BTCUSD\",\n",
        "    description='Crypotocurrency:',\n",
        "    style = {'description_width': 'initial'},\n",
        "    disabled=False)\n",
        "calendar1 = widgets.DatePicker(\n",
        "           description='Start Date',\n",
        "           )\n",
        "calendar2 = widgets.DatePicker(\n",
        "           description='End Date')\n",
        "          # value=\"2021-03-01\")\n",
        "ma = widgets.Checkbox(\n",
        "    value=False,\n",
        "    description='Show Moving Average',\n",
        "    disabled=False,\n",
        "    indent=False\n",
        ")\n",
        "nDayMA = widgets.Dropdown(\n",
        "    options=[20, 50, 300],\n",
        "    description='N-Unit Moving Average:',\n",
        "    style = {'description_width': 'initial'},\n",
        "    disabled=False)\n",
        "nDayPred = widgets.BoundedIntText(\n",
        "    value=7,\n",
        "    min=1,\n",
        "    max=9999,\n",
        "    step=1,\n",
        "    description='N-Unit Prediction:',\n",
        "    style = {'description_width': 'initial'},\n",
        "    disabled=False\n",
        ")\n",
        "buttonuser_info = widgets.Button(description='Load Data')\n",
        "outuser_info = widgets.Output()\n",
        "def on_buttonuser_info_clicked(b):\n",
        "  with outuser_info:\n",
        "        clear_output()\n",
        "        plt.ion()\n",
        "        cptype = bitdata.filter(\"type =  \\\"\" + str(users.value) + \"\\\"\")\n",
        "        ctype = cptype.filter(\"timestamp >= \\\"\" + str(calendar1.value) + \"\\\"\").filter(\"timestamp <= \\\"\" + str(calendar2.value) + \"\\\"\")\n",
        "        ts = ctype.select(\"timestamp\").toPandas()[\"timestamp\"].tolist()\n",
        "        fig = make_subplots(rows=2, cols=2)\n",
        "        # Price - Line\n",
        "        fig.add_trace(go.Scatter(x =ts,\n",
        "               y=list(chain(*ctype.select(col(\"close\").cast(\"double\").alias(\"close\")).toPandas().values.tolist())),\n",
        "               mode=\"lines\", name = \"Price (in minute)\",\n",
        "               showlegend =True, line=dict(color=\"red\", width=4)),\n",
        "            row=1, col=1)\n",
        "        if ma.value:\n",
        "          addma = calculate_ma(ctype, nDayPred.value)\n",
        "          fig.add_trace(go.Scatter(x =ts,\n",
        "               y=list(chain(*addma.select(col(\"MA\").cast(\"double\").alias(\"MA\")).toPandas().values.tolist())),\n",
        "               mode=\"lines\", name=\"Moving Average\", showlegend =True, line=dict(color=\"blue\", width=2)),\n",
        "            row=1, col=1)\n",
        "        # Price - Candlestick\n",
        "        fig.add_trace(go.Candlestick(x=ts,\n",
        "                       open  = list(chain(*ctype.select(col(\"open\").cast(\"double\").alias(\"open\")).toPandas().values.tolist())),\n",
        "                       high  = list(chain(*ctype.select(col(\"high\").cast(\"double\").alias(\"high\")).toPandas().values.tolist())),\n",
        "                       low   = list(chain(*ctype.select(col(\"low\").cast(\"double\").alias(\"low\")).toPandas().values.tolist())),\n",
        "                       close = list(chain(*ctype.select(col(\"close\").cast(\"double\").alias(\"close\")).toPandas().values.tolist())),\n",
        "                       showlegend =False),\n",
        "            row=2, col=2)\n",
        "        # Volume in hour\n",
        "        agg = agg_n_unit(cptype, 1440)\n",
        "        fig.add_trace(go.Bar(x=agg.select(\"timestamp\").toPandas()[\"timestamp\"].tolist(),\n",
        "                     y=list(chain(*agg.select(col(\"sum(Volume)\").cast(\"double\").alias(\"volume\")).toPandas().values.tolist())),\n",
        "              marker_color='black', showlegend =False\n",
        "              ),\n",
        "              row=2, col=1)\n",
        "        # Price Prediction\n",
        "        ptype = cptype.filter(\"timestamp >= \\\"2022-04-07\\\"\")\n",
        "        fig.add_trace(go.Scatter(x=ptype.select(\"timestamp\").toPandas()[\"timestamp\"].tolist(),\n",
        "               y=list(chain(*ptype.select(col(\"close\").cast(\"double\").alias(\"close\")).toPandas().values.tolist())),\n",
        "               mode=\"lines\", showlegend =True, name = \"Historical\", line=dict(color=\"blue\", width=1)),\n",
        "            row=1, col=2)\n",
        "        \n",
        "        pred = pretrain(users.value)\n",
        "        fig.add_trace(go.Scatter(x=pred.select(\"timestamp\").limit(nDayPred.value).toPandas()[\"timestamp\"].tolist(),\n",
        "               y=list(chain(*pred.select(col(\"prediction\").cast(\"double\").alias(\"prediction\")).limit(nDayPred.value).toPandas().values.tolist())),\n",
        "               mode=\"lines\", showlegend =True, name=\"Forecasting\", line=dict(color=\"orange\", width=1)),\n",
        "            row=1, col=2)\n",
        "      \n",
        "        fig.update_layout(width=1200, height=750, \n",
        "                          title = \"Cryptocurrencies Overview\")\n",
        "        fig.show()\n",
        "        \n",
        "buttonuser_info.on_click(on_buttonuser_info_clicked)\n",
        "display(widgets.VBox([users, calendar1, calendar2, ma, nDayMA, nDayPred, buttonuser_info, outuser_info]))"
      ],
      "metadata": {
        "id": "dgoXh9uhwGCw"
      },
      "execution_count": null,
      "outputs": []
    },
    {
      "cell_type": "code",
      "source": [
        "bitdata.filter(\"type = \\\"BTCUSD\\\"\")"
      ],
      "metadata": {
        "id": "LXADddwGLpiN"
      },
      "execution_count": null,
      "outputs": []
    }
  ]
}